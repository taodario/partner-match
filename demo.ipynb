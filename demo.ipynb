{
 "cells": [
  {
   "cell_type": "code",
   "execution_count": null,
   "id": "39dbd866",
   "metadata": {
    "vscode": {
     "languageId": "plaintext"
    }
   },
   "outputs": [],
   "source": [
    "from matching import load_data, make_graph, plot_graph_with_matching\n",
    "import networkx as nx\n",
    "\n",
    "data = load_data()\n",
    "g = make_graph(data)\n",
    "matching = nx.max_weight_matching(g, maxcardinality=True)\n",
    "plot_graph_with_matching(g, matching)"
   ]
  }
 ],
 "metadata": {
  "language_info": {
   "name": "python"
  }
 },
 "nbformat": 4,
 "nbformat_minor": 5
}
